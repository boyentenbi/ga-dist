{
 "cells": [
  {
   "cell_type": "code",
   "execution_count": 3,
   "metadata": {
    "collapsed": true
   },
   "outputs": [],
   "source": [
    "import matplotlib.pyplot as plt\n",
    "import pandas\n",
    "import os\n",
    "import matplotlib\n",
    "import seaborn as sns\n",
    "% matplotlib inline\n",
    "matplotlib.rcParams['figure.figsize'] = [12,6]\n",
    "results = pandas.read_csv('/home/pc517/ga-dist/distributed/logs/2018:05:12-11:43:12/KangarooNoFrameskip-v4/6/results.csv')"
   ]
  },
  {
   "cell_type": "code",
   "execution_count": 25,
   "metadata": {},
   "outputs": [
    {
     "data": {
      "text/html": [
       "<div>\n",
       "<style scoped>\n",
       "    .dataframe tbody tr th:only-of-type {\n",
       "        vertical-align: middle;\n",
       "    }\n",
       "\n",
       "    .dataframe tbody tr th {\n",
       "        vertical-align: top;\n",
       "    }\n",
       "\n",
       "    .dataframe thead th {\n",
       "        text-align: right;\n",
       "    }\n",
       "</style>\n",
       "<table border=\"1\" class=\"dataframe\">\n",
       "  <thead>\n",
       "    <tr style=\"text-align: right;\">\n",
       "      <th></th>\n",
       "      <th>worker_id</th>\n",
       "      <th>noise_list</th>\n",
       "      <th>ret</th>\n",
       "      <th>n_steps</th>\n",
       "      <th>n_seconds</th>\n",
       "      <th>finish_time</th>\n",
       "      <th>is_eval</th>\n",
       "      <th>worker_gen</th>\n",
       "      <th>worker_task_id</th>\n",
       "      <th>master_task_id</th>\n",
       "      <th>is_valid</th>\n",
       "    </tr>\n",
       "  </thead>\n",
       "  <tbody>\n",
       "    <tr>\n",
       "      <th>0</th>\n",
       "      <td>1097524506</td>\n",
       "      <td>170915336</td>\n",
       "      <td>0.0</td>\n",
       "      <td>287</td>\n",
       "      <td>1.795820</td>\n",
       "      <td>2.542837</td>\n",
       "      <td>False</td>\n",
       "      <td>0</td>\n",
       "      <td>1613925858</td>\n",
       "      <td>1613925858</td>\n",
       "      <td>True</td>\n",
       "    </tr>\n",
       "    <tr>\n",
       "      <th>1</th>\n",
       "      <td>627221361</td>\n",
       "      <td>201107233</td>\n",
       "      <td>0.0</td>\n",
       "      <td>272</td>\n",
       "      <td>1.830092</td>\n",
       "      <td>2.611330</td>\n",
       "      <td>False</td>\n",
       "      <td>0</td>\n",
       "      <td>1613925858</td>\n",
       "      <td>1613925858</td>\n",
       "      <td>True</td>\n",
       "    </tr>\n",
       "    <tr>\n",
       "      <th>2</th>\n",
       "      <td>969320931</td>\n",
       "      <td>245098612</td>\n",
       "      <td>0.0</td>\n",
       "      <td>285</td>\n",
       "      <td>1.987825</td>\n",
       "      <td>2.660730</td>\n",
       "      <td>False</td>\n",
       "      <td>0</td>\n",
       "      <td>1613925858</td>\n",
       "      <td>1613925858</td>\n",
       "      <td>True</td>\n",
       "    </tr>\n",
       "    <tr>\n",
       "      <th>3</th>\n",
       "      <td>718410373</td>\n",
       "      <td>111639796</td>\n",
       "      <td>0.0</td>\n",
       "      <td>272</td>\n",
       "      <td>1.904818</td>\n",
       "      <td>2.663085</td>\n",
       "      <td>False</td>\n",
       "      <td>0</td>\n",
       "      <td>1613925858</td>\n",
       "      <td>1613925858</td>\n",
       "      <td>True</td>\n",
       "    </tr>\n",
       "    <tr>\n",
       "      <th>4</th>\n",
       "      <td>61423906</td>\n",
       "      <td>112431180</td>\n",
       "      <td>0.0</td>\n",
       "      <td>267</td>\n",
       "      <td>1.857531</td>\n",
       "      <td>2.671305</td>\n",
       "      <td>False</td>\n",
       "      <td>0</td>\n",
       "      <td>1613925858</td>\n",
       "      <td>1613925858</td>\n",
       "      <td>True</td>\n",
       "    </tr>\n",
       "  </tbody>\n",
       "</table>\n",
       "</div>"
      ],
      "text/plain": [
       "<div>\n",
       "<style scoped>\n",
       "    .dataframe tbody tr th:only-of-type {\n",
       "        vertical-align: middle;\n",
       "    }\n",
       "\n",
       "    .dataframe tbody tr th {\n",
       "        vertical-align: top;\n",
       "    }\n",
       "\n",
       "    .dataframe thead th {\n",
       "        text-align: right;\n",
       "    }\n",
       "</style>\n",
       "<table border=\"1\" class=\"dataframe\">\n",
       "  <thead>\n",
       "    <tr style=\"text-align: right;\">\n",
       "      <th></th>\n",
       "      <th>worker_id</th>\n",
       "      <th>noise_list</th>\n",
       "      <th>ret</th>\n",
       "      <th>n_steps</th>\n",
       "      <th>n_seconds</th>\n",
       "      <th>finish_time</th>\n",
       "      <th>is_eval</th>\n",
       "      <th>worker_gen</th>\n",
       "      <th>worker_task_id</th>\n",
       "      <th>master_task_id</th>\n",
       "      <th>is_valid</th>\n",
       "    </tr>\n",
       "  </thead>\n",
       "  <tbody>\n",
       "    <tr>\n",
       "      <th>0</th>\n",
       "      <td>1097524506</td>\n",
       "      <td>170915336</td>\n",
       "      <td>0.0</td>\n",
       "      <td>287</td>\n",
       "      <td>1.795820</td>\n",
       "      <td>2.542837</td>\n",
       "      <td>False</td>\n",
       "      <td>0</td>\n",
       "      <td>1613925858</td>\n",
       "      <td>1613925858</td>\n",
       "      <td>True</td>\n",
       "    </tr>\n",
       "    <tr>\n",
       "      <th>1</th>\n",
       "      <td>627221361</td>\n",
       "      <td>201107233</td>\n",
       "      <td>0.0</td>\n",
       "      <td>272</td>\n",
       "      <td>1.830092</td>\n",
       "      <td>2.611330</td>\n",
       "      <td>False</td>\n",
       "      <td>0</td>\n",
       "      <td>1613925858</td>\n",
       "      <td>1613925858</td>\n",
       "      <td>True</td>\n",
       "    </tr>\n",
       "    <tr>\n",
       "      <th>2</th>\n",
       "      <td>969320931</td>\n",
       "      <td>245098612</td>\n",
       "      <td>0.0</td>\n",
       "      <td>285</td>\n",
       "      <td>1.987825</td>\n",
       "      <td>2.660730</td>\n",
       "      <td>False</td>\n",
       "      <td>0</td>\n",
       "      <td>1613925858</td>\n",
       "      <td>1613925858</td>\n",
       "      <td>True</td>\n",
       "    </tr>\n",
       "    <tr>\n",
       "      <th>3</th>\n",
       "      <td>718410373</td>\n",
       "      <td>111639796</td>\n",
       "      <td>0.0</td>\n",
       "      <td>272</td>\n",
       "      <td>1.904818</td>\n",
       "      <td>2.663085</td>\n",
       "      <td>False</td>\n",
       "      <td>0</td>\n",
       "      <td>1613925858</td>\n",
       "      <td>1613925858</td>\n",
       "      <td>True</td>\n",
       "    </tr>\n",
       "    <tr>\n",
       "      <th>4</th>\n",
       "      <td>61423906</td>\n",
       "      <td>112431180</td>\n",
       "      <td>0.0</td>\n",
       "      <td>267</td>\n",
       "      <td>1.857531</td>\n",
       "      <td>2.671305</td>\n",
       "      <td>False</td>\n",
       "      <td>0</td>\n",
       "      <td>1613925858</td>\n",
       "      <td>1613925858</td>\n",
       "      <td>True</td>\n",
       "    </tr>\n",
       "  </tbody>\n",
       "</table>\n",
       "</div>"
      ]
     },
     "execution_count": 25,
     "metadata": {},
     "output_type": "execute_result"
    }
   ],
   "source": [
    "results.head()"
   ]
  },
  {
   "cell_type": "code",
   "execution_count": 47,
   "metadata": {},
   "outputs": [],
   "source": [
    "worker_ids = list(set(results[\"worker_id\"]))\n",
    "worker_idxs = dict(zip(worker_ids, range(len(worker_ids))))\n",
    "valid_results = results[results.is_valid]\n",
    "invalid_results = results[results.is_valid!= True]\n",
    "invalid_evals = invalid_results[invalid_results.is_eval]\n",
    "invalid_muts = invalid_results[invalid_results.is_eval!=True]\n",
    "valid_muts = valid_results[valid_results[\"is_eval\"] == False]\n",
    "valid_evals = valid_results[valid_results[\"is_eval\"] == True]"
   ]
  },
  {
   "cell_type": "code",
   "execution_count": 24,
   "metadata": {},
   "outputs": [
    {
     "data": {
      "text/plain": [
       "<matplotlib.lines.Line2D at 0x2aad49e6af60>"
      ]
     },
     "execution_count": 24,
     "metadata": {},
     "output_type": "execute_result"
    },
    {
     "data": {
      "image/png": "[encoded data removed]",
      "text/plain": [
       "<Figure size 1080x576 with 1 Axes>"
      ]
     },
     "metadata": {},
     "output_type": "display_data"
    }
   ],
   "source": [
    "plt.scatter(valid_muts[\"finish_time\"], [worker_idxs[x] for x in valid_muts[\"worker_id\"]], marker=\".\", color=\"blue\")\n",
    "plt.scatter(valid_evals[\"finish_time\"], [worker_idxs[x] for x in valid_evals[\"worker_id\"]], marker=\".\", color=\"green\")\n",
    "plt.scatter(invalid_results[\"finish_time\"], [worker_idxs[x] for x in invalid_results[\"worker_id\"]], marker=\".\", color=\"red\")\n",
    "plt.xlim(11000,11200)\n",
    "plt.ylim(-0.5,20.5)\n",
    "# plt.yticks(range(20))\n",
    "plt.xlabel(\"Time since experiment start / s\")\n",
    "plt.ylabel(\"Unique worker id\")\n",
    "plt.title(\"All worker submissions (Kangaroo)\")\n",
    "plt.legend([\"Valid, mutation\", \"Valid, candidate evaluation\", \"Invalid\"])\n",
    "plt.axvline(x=11188.407032728195)\n",
    "plt.axvline(x=11112.116198062897)\n",
    "plt.axvline(x=11031.423524141312)"
   ]
  },
  {
   "cell_type": "code",
   "execution_count": 41,
   "metadata": {},
   "outputs": [
    {
     "name": "stderr",
     "output_type": "stream",
     "text": [
      "/home/pc517/anaconda3/envs/ga/lib/python3.6/site-packages/matplotlib/axes/_axes.py:6462: UserWarning: The 'normed' kwarg is deprecated, and has been replaced by the 'density' kwarg.\n  warnings.warn(\"The 'normed' kwarg is deprecated, and has been \"\n"
     ]
    },
    {
     "data": {
      "text/plain": [
       "<matplotlib.axes._subplots.AxesSubplot at 0x2aad562b0550>"
      ]
     },
     "execution_count": 41,
     "metadata": {},
     "output_type": "execute_result"
    },
    {
     "data": {
      "image/png": "[encoded data removed]",
      "text/plain": [
       "<Figure size 1080x576 with 1 Axes>"
      ]
     },
     "metadata": {},
     "output_type": "display_data"
    }
   ],
   "source": [
    "def ts_filter(min, max):\n",
    "    return lambda x: min<=x<=max\n",
    "\n",
    "eval_finishes = valid_evals[\"finish_time\"]\n",
    "mut_finishes = valid_muts[\"finish_time\"]\n",
    "invalid_finishes = invalid_results[\"finish_time\"]\n",
    "min = 11000\n",
    "max = 11200\n",
    "sns.distplot(eval_finishes[eval_finishes.apply(ts_filter(min,max))], kde=False, norm_hist=False)\n",
    "sns.distplot(mut_finishes[mut_finishes.apply(ts_filter(min,max))], kde=False, norm_hist=False)\n",
    "sns.distplot(invalid_finishes[invalid_finishes.apply(ts_filter(min,max))], kde=False, norm_hist=False)"
   ]
  },
  {
   "cell_type": "code",
   "execution_count": 44,
   "metadata": {
    "collapsed": false
   },
   "outputs": [
    {
     "ename": "TypeError",
     "evalue": "'function' object is not iterable",
     "traceback": [
      "\u001b[0;31m---------------------------------------------------------------------------\u001b[0m",
      "\u001b[0;31mTypeError\u001b[0m                                 Traceback (most recent call last)",
      "\u001b[0;32m<ipython-input-44-d406e85dd608>\u001b[0m in \u001b[0;36m<module>\u001b[0;34m()\u001b[0m\n\u001b[0;32m----> 1\u001b[0;31m \u001b[0msns\u001b[0m\u001b[0;34m.\u001b[0m\u001b[0mboxplot\u001b[0m\u001b[0;34m(\u001b[0m\u001b[0mvalid_muts\u001b[0m\u001b[0;34m[\u001b[0m\u001b[0;34m\"worker_gen\"\u001b[0m\u001b[0;34m]\u001b[0m\u001b[0;34m.\u001b[0m\u001b[0mfilter\u001b[0m\u001b[0;34m(\u001b[0m\u001b[0mts_filter\u001b[0m\u001b[0;34m(\u001b[0m\u001b[0;36m3000\u001b[0m\u001b[0;34m,\u001b[0m\u001b[0;36m4000\u001b[0m\u001b[0;34m)\u001b[0m\u001b[0;34m)\u001b[0m\u001b[0;34m,\u001b[0m \u001b[0mvalid_muts\u001b[0m\u001b[0;34m[\u001b[0m\u001b[0;34m\"n_steps\"\u001b[0m\u001b[0;34m]\u001b[0m\u001b[0;34m.\u001b[0m\u001b[0mfilter\u001b[0m\u001b[0;34m(\u001b[0m\u001b[0mts_filter\u001b[0m\u001b[0;34m(\u001b[0m\u001b[0;36m3000\u001b[0m\u001b[0;34m,\u001b[0m\u001b[0;36m4000\u001b[0m\u001b[0;34m)\u001b[0m\u001b[0;34m)\u001b[0m\u001b[0;34m)\u001b[0m\u001b[0;34m\u001b[0m\u001b[0m\n\u001b[0m",
      "\u001b[0;32m~/anaconda3/envs/ga/lib/python3.6/site-packages/pandas/core/generic.py\u001b[0m in \u001b[0;36mfilter\u001b[0;34m(self, items, like, regex, axis)\u001b[0m\n\u001b[1;32m   3233\u001b[0m             \u001b[0mname\u001b[0m \u001b[0;34m=\u001b[0m \u001b[0mself\u001b[0m\u001b[0;34m.\u001b[0m\u001b[0m_get_axis_name\u001b[0m\u001b[0;34m(\u001b[0m\u001b[0maxis\u001b[0m\u001b[0;34m)\u001b[0m\u001b[0;34m\u001b[0m\u001b[0m\n\u001b[1;32m   3234\u001b[0m             return self.reindex(\n\u001b[0;32m-> 3235\u001b[0;31m                 **{name: [r for r in items if r in labels]})\n\u001b[0m\u001b[1;32m   3236\u001b[0m         \u001b[0;32melif\u001b[0m \u001b[0mlike\u001b[0m\u001b[0;34m:\u001b[0m\u001b[0;34m\u001b[0m\u001b[0m\n\u001b[1;32m   3237\u001b[0m             \u001b[0;32mdef\u001b[0m \u001b[0mf\u001b[0m\u001b[0;34m(\u001b[0m\u001b[0mx\u001b[0m\u001b[0;34m)\u001b[0m\u001b[0;34m:\u001b[0m\u001b[0;34m\u001b[0m\u001b[0m\n",
      "\u001b[0;31mTypeError\u001b[0m: 'function' object is not iterable"
     ],
     "output_type": "error"
    }
   ],
   "source": [
    "sns.boxplot(valid_muts[\"worker_gen\"].filter(ts_filter(3000,4000)), valid_muts[\"n_steps\"].filter(ts_filter(3000,4000)))"
   ]
  },
  {
   "cell_type": "code",
   "execution_count": null,
   "metadata": {},
   "outputs": [],
   "source": []
  }
 ],
 "metadata": {
  "kernelspec": {
   "display_name": "Python 2",
   "language": "python",
   "name": "python2"
  },
  "language_info": {
   "codemirror_mode": {
    "name": "ipython",
    "version": 2
   },
   "file_extension": ".py",
   "mimetype": "text/x-python",
   "name": "python",
   "nbconvert_exporter": "python",
   "pygments_lexer": "ipython2",
   "version": "2.7.6"
  }
 },
 "nbformat": 4,
 "nbformat_minor": 0
}
