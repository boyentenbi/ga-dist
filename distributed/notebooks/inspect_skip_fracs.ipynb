{
 "cells": [
  {
   "cell_type": "code",
   "execution_count": 1,
   "metadata": {},
   "outputs": [],
   "source": [
    "import matplotlib.pyplot as plt\n",
    "import pandas\n",
    "import os\n",
    "import matplotlib\n",
    "% matplotlib inline\n",
    "# matplotlib.rcParams['figure.figsize'] = [15,8]"
   ]
  },
  {
   "cell_type": "code",
   "execution_count": 2,
   "metadata": {
    "collapsed": true
   },
   "outputs": [],
   "source": [
    "super_exp_path = \"/home/pc517/ga-dist/distributed/logs/2018:05:12-11:43:12\"\n",
    "\n",
    "# stats = pandas.DataFrame([], columns=[\n",
    "#     \"env_id\", \n",
    "#     \"seed\", \n",
    "#     \"valid_mut_num_frac\",\n",
    "#    \"valid_eval_num_frac\",\n",
    "#    \"invalid_mut_num_frac\",\n",
    "#    \"invalid_eval_num_frac\",\n",
    "#    \"valid_mut_time_frac\",\n",
    "#    \"valid_eval_time_frac\",\n",
    "#    \"invalid_mut_time_frac\",\n",
    "#    \"invalid_eval_time_frac\"])\n"
   ]
  },
  {
   "cell_type": "code",
   "execution_count": 3,
   "metadata": {},
   "outputs": [
    {
     "data": {
      "text/plain": [
       "156"
      ]
     },
     "execution_count": 3,
     "metadata": {},
     "output_type": "execute_result"
    }
   ],
   "source": [
    "12*13"
   ]
  },
  {
   "cell_type": "code",
   "execution_count": 4,
   "metadata": {},
   "outputs": [
    {
     "name": "stdout",
     "output_type": "stream",
     "text": [
      "Number of results files found in /home/pc517/ga-dist/distributed/logs/2018:05:12-11:43:12:\n"
     ]
    },
    {
     "name": "stdout",
     "output_type": "stream",
     "text": [
      "    FrostbiteNoFrameskip-v4: 4\n"
     ]
    },
    {
     "name": "stdout",
     "output_type": "stream",
     "text": [
      "    GravitarNoFrameskip-v4: 1\n"
     ]
    },
    {
     "name": "stdout",
     "output_type": "stream",
     "text": [
      "    SkiingNoFrameskip-v4: 5\n"
     ]
    },
    {
     "name": "stdout",
     "output_type": "stream",
     "text": [
      "    KangarooNoFrameskip-v4: 5\n"
     ]
    },
    {
     "name": "stdout",
     "output_type": "stream",
     "text": [
      "    VentureNoFrameskip-v4: 5\n"
     ]
    }
   ],
   "source": [
    "print(\"Number of results files found in {}:\".format(super_exp_path))\n",
    "dfs = []\n",
    "for env_id in os.listdir(super_exp_path):\n",
    "    env_exp_path = os.path.join(super_exp_path, env_id)\n",
    "    \n",
    "    seed_count = 0\n",
    "\n",
    "    for seed in os.listdir(env_exp_path):\n",
    "        results_path = os.path.join(env_exp_path, seed, \"results.csv\")\n",
    "        if os.path.isfile(results_path):\n",
    "            results = pandas.read_csv(results_path)\n",
    "            \n",
    "            \n",
    "            valid_results = results[results.is_valid]\n",
    "            invalid_results = results[results.is_valid == False]\n",
    "        \n",
    "            valid_muts = valid_results[valid_results[\"is_eval\"] == False]\n",
    "            valid_evals = valid_results[valid_results[\"is_eval\"] == True]\n",
    "            invalid_muts = invalid_results[invalid_results.is_eval == False]\n",
    "            invalid_evals = invalid_results[invalid_results.is_eval==True]\n",
    "            \n",
    "            dfs.append(pandas.DataFrame.from_dict({\n",
    "                \"env_id\": env_id,\n",
    "                \"seed\": seed,\n",
    "                \"valid_mut_num_frac\":     [len(valid_muts)/len(results)],\n",
    "                \"valid_eval_num_frac\":    [len(valid_evals)/len(results)],\n",
    "                \"invalid_mut_num_frac\":   [len(invalid_muts)/len(results)],\n",
    "                \"invalid_eval_num_frac\":  [len(invalid_evals)/len(results)],\n",
    "                \"valid_mut_time_frac\":    [valid_muts[\"n_seconds\"].sum()/results[\"n_seconds\"].sum()],\n",
    "                \"valid_eval_time_frac\":   [valid_evals[\"n_seconds\"].sum()/results[\"n_seconds\"].sum()],\n",
    "                \"invalid_mut_time_frac\":  [invalid_muts[\"n_seconds\"].sum()/results[\"n_seconds\"].sum()],\n",
    "                \"invalid_eval_time_frac\": [invalid_evals[\"n_seconds\"].sum()/results[\"n_seconds\"].sum()]}), )\n",
    "            seed_count +=1\n",
    "    print(\"    {}: {}\".format(env_id, seed_count))\n"
   ]
  },
  {
   "cell_type": "code",
   "execution_count": 5,
   "metadata": {},
   "outputs": [],
   "source": [
    "stats = pandas.concat(dfs)"
   ]
  },
  {
   "cell_type": "code",
   "execution_count": 9,
   "metadata": {},
   "outputs": [
    {
     "name": "stdout",
     "output_type": "stream",
     "text": [
      "invalid_eval_num_frac     0.015339\ninvalid_eval_time_frac    0.042480\ninvalid_mut_num_frac      0.197991\ninvalid_mut_time_frac     0.180268\nvalid_eval_num_frac       0.235127\nvalid_eval_time_frac      0.338852\nvalid_mut_num_frac        0.551543\nvalid_mut_time_frac       0.438401\ndtype: float64\n"
     ]
    }
   ],
   "source": [
    "print(stats[stats[\"env_id\"]==\"KangarooNoFrameskip-v4\"].mean())"
   ]
  },
  {
   "cell_type": "code",
   "execution_count": 11,
   "metadata": {},
   "outputs": [
    {
     "name": "stdout",
     "output_type": "stream",
     "text": [
      "invalid_eval_num_frac     0.000000\ninvalid_eval_time_frac    0.000000\ninvalid_mut_num_frac      0.245428\ninvalid_mut_time_frac     0.231041\nvalid_eval_num_frac       0.225229\nvalid_eval_time_frac      0.305028\nvalid_mut_num_frac        0.529343\nvalid_mut_time_frac       0.463932\ndtype: float64\n"
     ]
    }
   ],
   "source": [
    "print(stats[stats[\"env_id\"]==\"FrostbiteNoFrameskip-v4\"].mean())"
   ]
  },
  {
   "cell_type": "code",
   "execution_count": 12,
   "metadata": {},
   "outputs": [
    {
     "name": "stdout",
     "output_type": "stream",
     "text": [
      "invalid_eval_num_frac     0.000000\ninvalid_eval_time_frac    0.000000\ninvalid_mut_num_frac      0.213227\ninvalid_mut_time_frac     0.396267\nvalid_eval_num_frac       0.234905\nvalid_eval_time_frac      0.142772\nvalid_mut_num_frac        0.551867\nvalid_mut_time_frac       0.460962\ndtype: float64\n"
     ]
    }
   ],
   "source": [
    "print(stats[stats[\"env_id\"]==\"SkiingNoFrameskip-v4\"].mean())"
   ]
  },
  {
   "cell_type": "code",
   "execution_count": 18,
   "metadata": {},
   "outputs": [
    {
     "name": "stdout",
     "output_type": "stream",
     "text": [
      "                    env_id  invalid_eval_num_frac  invalid_eval_time_frac  \\\n0  FrostbiteNoFrameskip-v4               0.000000                0.000000   \n0  FrostbiteNoFrameskip-v4               0.000000                0.000000   \n0  FrostbiteNoFrameskip-v4               0.000000                0.000000   \n0  FrostbiteNoFrameskip-v4               0.000000                0.000000   \n0   GravitarNoFrameskip-v4               0.000000                0.000000   \n0     SkiingNoFrameskip-v4               0.000000                0.000000   \n0     SkiingNoFrameskip-v4               0.000000                0.000000   \n0     SkiingNoFrameskip-v4               0.000000                0.000000   \n0     SkiingNoFrameskip-v4               0.000000                0.000000   \n0     SkiingNoFrameskip-v4               0.000000                0.000000   \n0   KangarooNoFrameskip-v4               0.000000                0.000000   \n0   KangarooNoFrameskip-v4               0.038379                0.117305   \n0   KangarooNoFrameskip-v4               0.000000                0.000000   \n0   KangarooNoFrameskip-v4               0.038318                0.095094   \n0   KangarooNoFrameskip-v4               0.000000                0.000000   \n0    VentureNoFrameskip-v4               0.000000                0.000000   \n0    VentureNoFrameskip-v4               0.000000                0.000000   \n0    VentureNoFrameskip-v4               0.000000                0.000000   \n0    VentureNoFrameskip-v4               0.000000                0.000000   \n0    VentureNoFrameskip-v4               0.000000                0.000000   \n\n   invalid_mut_num_frac  invalid_mut_time_frac seed  valid_eval_num_frac  \\\n0              0.239798               0.220320    2             0.227160   \n0              0.225517               0.209246    1             0.231146   \n0              0.275499               0.263295    4             0.216028   \n0              0.240898               0.231303    0             0.226584   \n0              0.202467               0.200492    0             0.238645   \n0              0.230211               0.390044    0             0.229490   \n0              0.213622               0.399745    4             0.234894   \n0              0.208716               0.400671    3             0.236477   \n0              0.207147               0.391485    1             0.236590   \n0              0.206441               0.399388    2             0.237074   \n0              0.202174               0.188880    1             0.238559   \n0              0.190810               0.168535    6             0.230311   \n0              0.201972               0.185763    2             0.238588   \n0              0.192672               0.168817    5             0.229908   \n0              0.202329               0.189345    0             0.238269   \n0              0.198782               0.240127    1             0.238326   \n0              0.200243               0.243738    2             0.237851   \n0              0.200320               0.238984    0             0.237897   \n0              0.198464               0.240119    3             0.238312   \n0              0.203534               0.249233    4             0.236851   \n\n   valid_eval_time_frac  valid_mut_num_frac  valid_mut_time_frac  \n0              0.300861            0.533042             0.478819  \n0              0.314755            0.543337             0.476000  \n0              0.298878            0.508473             0.437828  \n0              0.305618            0.532518             0.463079  \n0              0.271895            0.558888             0.527613  \n0              0.138149            0.540299             0.471807  \n0              0.148223            0.551484             0.452032  \n0              0.153337            0.554806             0.445992  \n0              0.128050            0.556263             0.480465  \n0              0.146099            0.556485             0.454513  \n0              0.331171            0.559267             0.479949  \n0              0.357958            0.540500             0.356202  \n0              0.358666            0.559441             0.455571  \n0              0.309742            0.539103             0.426347  \n0              0.336721            0.559402             0.473934  \n0              0.239955            0.562892             0.519918  \n0              0.238073            0.561907             0.518189  \n0              0.243650            0.561783             0.517366  \n0              0.245017            0.563224             0.514864  \n0              0.240235            0.559614             0.510532  \n"
     ]
    }
   ],
   "source": [
    "print(stats)"
   ]
  },
  {
   "cell_type": "code",
   "execution_count": 31,
   "metadata": {},
   "outputs": [
    {
     "name": "stdout",
     "output_type": "stream",
     "text": [
      "Mean invalid eval time: 0.010619931474676237\n"
     ]
    }
   ],
   "source": [
    "print(\"Mean invalid eval time: {}\".format(stats[\"invalid_eval_time_frac\"].mean()))"
   ]
  },
  {
   "cell_type": "code",
   "execution_count": 29,
   "metadata": {},
   "outputs": [
    {
     "name": "stdout",
     "output_type": "stream",
     "text": [
      "Mean invalid mut time: 0.2609764110606802\n"
     ]
    }
   ],
   "source": [
    "print(\"Mean invalid mut time: {}\".format(stats[\"invalid_mut_time_frac\"].mean()))"
   ]
  },
  {
   "cell_type": "code",
   "execution_count": 34,
   "metadata": {},
   "outputs": [
    {
     "name": "stdout",
     "output_type": "stream",
     "text": [
      "Mean invalid eval num: 0.0038348434961747585\n"
     ]
    }
   ],
   "source": [
    "print(\"Mean invalid eval num: {}\".format(stats[\"invalid_eval_num_frac\"].mean()))"
   ]
  },
  {
   "cell_type": "code",
   "execution_count": 38,
   "metadata": {},
   "outputs": [
    {
     "name": "stdout",
     "output_type": "stream",
     "text": [
      "Mean invalid mut num: 0.21208077860657043\n"
     ]
    }
   ],
   "source": [
    "print(\"Mean invalid mut num: {}\".format(stats[\"invalid_mut_num_frac\"].mean()))"
   ]
  },
  {
   "cell_type": "code",
   "execution_count": 41,
   "metadata": {},
   "outputs": [
    {
     "data": {
      "text/plain": [
       "27.15"
      ]
     },
     "execution_count": 41,
     "metadata": {},
     "output_type": "execute_result"
    }
   ],
   "source": [
    "26.09+1.06"
   ]
  },
  {
   "cell_type": "code",
   "execution_count": null,
   "metadata": {},
   "outputs": [],
   "source": []
  }
 ],
 "metadata": {
  "kernelspec": {
   "display_name": "Python 2",
   "language": "python",
   "name": "python2"
  },
  "language_info": {
   "codemirror_mode": {
    "name": "ipython",
    "version": 2
   },
   "file_extension": ".py",
   "mimetype": "text/x-python",
   "name": "python",
   "nbconvert_exporter": "python",
   "pygments_lexer": "ipython2",
   "version": "2.7.6"
  }
 },
 "nbformat": 4,
 "nbformat_minor": 0
}
